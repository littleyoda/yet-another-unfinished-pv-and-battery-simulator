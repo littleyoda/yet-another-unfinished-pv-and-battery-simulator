{
 "cells": [
  {
   "cell_type": "code",
   "execution_count": null,
   "id": "f67b335a-1422-46af-b2b3-5ab552583fcb",
   "metadata": {},
   "outputs": [],
   "source": [
    "%run PV-Toolbox.ipynb\n",
    "\n",
    "cfgPVGIS = [\n",
    "        { \"latitude\":52.51890653973749, \n",
    "          \"longitude\":13.375925533235622, \n",
    "          \"surface_tilt\":30,\n",
    "          \"surface_azimuth\":-90, \n",
    "          \"loss\":10,\n",
    "          \"pvcalculation\":True, \n",
    "          \"peakpower\":9.8\n",
    "        },\n",
    "        {\n",
    "            \"latitude\":52.51890653973749, \n",
    "            \"longitude\":13.375925533235622, \n",
    "            \"surface_tilt\":30, \n",
    "            \"surface_azimuth\":90, \n",
    "            \"loss\":10,\n",
    "            \"pvcalculation\":True, \n",
    "            \"peakpower\":9.8\n",
    "        }\n",
    "    ]\n",
    "\n",
    "cfg = {\n",
    "    \"battery\": {\n",
    "        \"capacity\": 5000,\n",
    "        \"chargelimit\": 3000 / 60,\n",
    "        \"discargelimit\": 3000 / 60,\n",
    "        \n",
    "    },\n",
    "    \"pv\": getPVGISData(cfgPVGIS, \"2015\"),\n",
    "    \"last\": [\n",
    "        { \n",
    "          \"name\": \"Haus\",\n",
    "          \"profile\": lastprofilAnpassen(8000, loadSvensLastProfil('lastprofile_eintag.csv'))\n",
    "        }\n",
    "    ]\n",
    "}"
   ]
  },
  {
   "cell_type": "code",
   "execution_count": null,
   "id": "ac424881-6504-4293-a8f7-7887c97c11eb",
   "metadata": {},
   "outputs": [],
   "source": [
    "simulation = simulate(cfg)\n",
    "summary = stats(simulation,cfg)\n",
    "tabulate.tabulate([summary], tablefmt='html', headers=\"keys\")"
   ]
  }
 ],
 "metadata": {
  "kernelspec": {
   "display_name": "Python 3 (ipykernel)",
   "language": "python",
   "name": "python3"
  },
  "language_info": {
   "codemirror_mode": {
    "name": "ipython",
    "version": 3
   },
   "file_extension": ".py",
   "mimetype": "text/x-python",
   "name": "python",
   "nbconvert_exporter": "python",
   "pygments_lexer": "ipython3",
   "version": "3.11.3"
  }
 },
 "nbformat": 4,
 "nbformat_minor": 5
}
