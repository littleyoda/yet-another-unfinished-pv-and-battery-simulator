{
 "cells": [
  {
   "cell_type": "code",
   "execution_count": 5,
   "id": "f67b335a-1422-46af-b2b3-5ab552583fcb",
   "metadata": {},
   "outputs": [],
   "source": [
    "cfg = {\n",
    "    \"battery\": {\n",
    "        \"capacity\": 3000,\n",
    "        \"chargelimit\": 3000/60,\n",
    "        \"discargelimit\": 3000/60,\n",
    "        \n",
    "    },\n",
    "    \"pv\": [\n",
    "        { \"latitude\":52.51890653973749, \n",
    "          \"longitude\":13.375925533235622, \n",
    "          \"surface_tilt\":30,\n",
    "          \"surface_azimuth\":-90, \n",
    "          \"loss\":10,\n",
    "          \"pvcalculation\":True, \n",
    "          \"peakpower\":9.8\n",
    "        },\n",
    "        {\n",
    "            \"latitude\":52.51890653973749, \n",
    "            \"longitude\":13.375925533235622, \n",
    "            \"surface_tilt\":30, \n",
    "            \"surface_azimuth\":90, \n",
    "            \"loss\":10,\n",
    "            \"pvcalculation\":True, \n",
    "            \"peakpower\":9.8\n",
    "        }\n",
    "    ]\n",
    "}"
   ]
  },
  {
   "cell_type": "code",
   "execution_count": 6,
   "id": "28ae05a8-44cc-4076-80a6-1ba8d3a9c9a2",
   "metadata": {},
   "outputs": [
    {
     "name": "stdout",
     "output_type": "stream",
     "text": [
      "Stromverbrauch pro Jahr: 5133\n",
      "Cached: cache/pvgis-latitude52.51890653973749longitude13.375925533235622loss10peakpower9.8pvcalculationTruesurface_azimuth-90surface_tilt302015.data\n",
      "Cached: cache/pvgis-latitude52.51890653973749longitude13.375925533235622loss10peakpower9.8pvcalculationTruesurface_azimuth90surface_tilt302015.data\n",
      "PV Ertrag im Jahr:17153\n"
     ]
    }
   ],
   "source": [
    "%run PV-Toolbox.ipynb\n",
    "\n",
    "last = loadSvensLastProfil('lastprofile_eintag.csv')\n",
    "pvErtrag = getPVGISData(cfg, 2015)"
   ]
  },
  {
   "cell_type": "code",
   "execution_count": 7,
   "id": "ac424881-6504-4293-a8f7-7887c97c11eb",
   "metadata": {},
   "outputs": [
    {
     "data": {
      "text/html": [
       "<table>\n",
       "<thead>\n",
       "<tr><th style=\"text-align: right;\">  verbrauch</th><th style=\"text-align: right;\">   pv</th><th style=\"text-align: right;\">  netzbezug</th><th style=\"text-align: right;\">  netzeinspeisung</th><th style=\"text-align: right;\">  batterieladung</th><th style=\"text-align: right;\">  batterieendladung</th><th style=\"text-align: right;\">  kapazität</th><th style=\"text-align: right;\">  vollzyklen</th></tr>\n",
       "</thead>\n",
       "<tbody>\n",
       "<tr><td style=\"text-align: right;\">       5133</td><td style=\"text-align: right;\">17153</td><td style=\"text-align: right;\">       1437</td><td style=\"text-align: right;\">            13458</td><td style=\"text-align: right;\">            1305</td><td style=\"text-align: right;\">               1305</td><td style=\"text-align: right;\">       3000</td><td style=\"text-align: right;\">         435</td></tr>\n",
       "</tbody>\n",
       "</table>"
      ],
      "text/plain": [
       "'<table>\\n<thead>\\n<tr><th style=\"text-align: right;\">  verbrauch</th><th style=\"text-align: right;\">   pv</th><th style=\"text-align: right;\">  netzbezug</th><th style=\"text-align: right;\">  netzeinspeisung</th><th style=\"text-align: right;\">  batterieladung</th><th style=\"text-align: right;\">  batterieendladung</th><th style=\"text-align: right;\">  kapazität</th><th style=\"text-align: right;\">  vollzyklen</th></tr>\\n</thead>\\n<tbody>\\n<tr><td style=\"text-align: right;\">       5133</td><td style=\"text-align: right;\">17153</td><td style=\"text-align: right;\">       1437</td><td style=\"text-align: right;\">            13458</td><td style=\"text-align: right;\">            1305</td><td style=\"text-align: right;\">               1305</td><td style=\"text-align: right;\">       3000</td><td style=\"text-align: right;\">         435</td></tr>\\n</tbody>\\n</table>'"
      ]
     },
     "execution_count": 7,
     "metadata": {},
     "output_type": "execute_result"
    }
   ],
   "source": [
    "simulation = simulate(pvErtrag, last, cfg)\n",
    "summary = stats(simulation,cfg)\n",
    "tabulate.tabulate([summary], tablefmt='html', headers=\"keys\")"
   ]
  }
 ],
 "metadata": {
  "kernelspec": {
   "display_name": "Python 3 (ipykernel)",
   "language": "python",
   "name": "python3"
  },
  "language_info": {
   "codemirror_mode": {
    "name": "ipython",
    "version": 3
   },
   "file_extension": ".py",
   "mimetype": "text/x-python",
   "name": "python",
   "nbconvert_exporter": "python",
   "pygments_lexer": "ipython3",
   "version": "3.8.12"
  }
 },
 "nbformat": 4,
 "nbformat_minor": 5
}
