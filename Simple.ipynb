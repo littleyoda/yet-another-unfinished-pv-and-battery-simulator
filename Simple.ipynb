{
 "cells": [
  {
   "cell_type": "code",
   "execution_count": null,
   "id": "f67b335a-1422-46af-b2b3-5ab552583fcb",
   "metadata": {
    "tags": []
   },
   "outputs": [],
   "source": [
    "cfg = {\n",
    "    \"battery\": {\n",
    "        \"capacity\": 0,\n",
    "        \"chargelimit\": 0,\n",
    "        \"discargelimit\": 0,\n",
    "        \n",
    "    },\n",
    "    \"pv\": [\n",
    "        { \"latitude\":52.51890653973749, \n",
    "          \"longitude\":13.375925533235622, \n",
    "          \"surface_tilt\":30,\n",
    "          \"surface_azimuth\":-90, \n",
    "          \"loss\":10,\n",
    "          \"pvcalculation\":True, \n",
    "          \"peakpower\":9.8\n",
    "        },\n",
    "        {\n",
    "            \"latitude\":52.51890653973749, \n",
    "            \"longitude\":13.375925533235622, \n",
    "            \"surface_tilt\":30, \n",
    "            \"surface_azimuth\":90, \n",
    "            \"loss\":10,\n",
    "            \"pvcalculation\":True, \n",
    "            \"peakpower\":9.8\n",
    "        }\n",
    "    ]\n",
    "}"
   ]
  },
  {
   "cell_type": "code",
   "execution_count": null,
   "id": "28ae05a8-44cc-4076-80a6-1ba8d3a9c9a2",
   "metadata": {
    "tags": []
   },
   "outputs": [],
   "source": [
    "%run PV-Toolbox.ipynb\n",
    "\n",
    "last = loadSvensLastProfil('lastprofile_eintag.csv')\n",
    "\n",
    "# Passe das Lastprofil auf 8000 kWh pro Jahr an\n",
    "lastprofilAnpassen(8000, last)\n",
    "\n",
    "# PV-Daten direkt vom pvgis Server abrufen\n",
    "pvErtrag = getPVGISData(cfg, 2015)"
   ]
  },
  {
   "cell_type": "code",
   "execution_count": null,
   "id": "ac424881-6504-4293-a8f7-7887c97c11eb",
   "metadata": {},
   "outputs": [],
   "source": [
    "simulation = simulate(pvErtrag, last, cfg)\n",
    "summary = stats(simulation,cfg)\n",
    "tabulate.tabulate([summary], tablefmt='html', headers=\"keys\")"
   ]
  }
 ],
 "metadata": {
  "kernelspec": {
   "display_name": "Python 3 (ipykernel)",
   "language": "python",
   "name": "python3"
  },
  "language_info": {
   "codemirror_mode": {
    "name": "ipython",
    "version": 3
   },
   "file_extension": ".py",
   "mimetype": "text/x-python",
   "name": "python",
   "nbconvert_exporter": "python",
   "pygments_lexer": "ipython3",
   "version": "3.11.3"
  }
 },
 "nbformat": 4,
 "nbformat_minor": 5
}
