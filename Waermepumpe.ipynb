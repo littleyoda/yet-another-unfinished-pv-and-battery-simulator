{
 "cells": [
  {
   "cell_type": "code",
   "execution_count": null,
   "id": "25d7ea96-1d78-489b-9b59-63eb9efa423f",
   "metadata": {
    "tags": []
   },
   "outputs": [],
   "source": [
    "%run PV-Toolbox.ipynb\n",
    "\n",
    "cfgPVGIS = [\n",
    "        { \"latitude\":52.51890653973749, \n",
    "          \"longitude\":13.375925533235622, \n",
    "          \"surface_tilt\":30,\n",
    "          \"surface_azimuth\":-90, \n",
    "          \"loss\":10,\n",
    "          \"pvcalculation\":True, \n",
    "          \"peakpower\":9.8\n",
    "        },\n",
    "        {\n",
    "            \"latitude\":52.51890653973749, \n",
    "            \"longitude\":13.375925533235622, \n",
    "            \"surface_tilt\":30, \n",
    "            \"surface_azimuth\":90, \n",
    "            \"loss\":10,\n",
    "            \"pvcalculation\":True, \n",
    "            \"peakpower\":9.8\n",
    "        }\n",
    "    ]\n",
    "\n",
    "\n",
    "\n",
    "cfgMin = {\n",
    "    \"battery\": {\n",
    "        \"capacity\": 0,\n",
    "        \"chargelimit\": 3000/60,\n",
    "        \"discargelimit\": 3000/60,\n",
    "        \n",
    "    },\n",
    "    \"pv\": getPVGISData(cfgPVGIS, \"2015\"),\n",
    "    \"last\": [\n",
    "        { \n",
    "          \"name\": \"Haus\",\n",
    "          \"profile\": loadSvensLastProfil('sven/lastprofil.csv')\n",
    "        },\n",
    "    ]\n",
    "}\n",
    "\n",
    "cfgs = {}\n",
    "\n",
    "for akku in [False, True]:\n",
    "    for wp in [False, True]:\n",
    "        cfg = copy.deepcopy(cfgMin)\n",
    "        if (akku):\n",
    "            cfg[\"battery\"][\"capacity\"] = 5000\n",
    "        if (wp):\n",
    "            cfg[\"last\"].append(\n",
    "            {\n",
    "              \"name\": \"WP\",\n",
    "              \"profile\": lastprofilWarmepumpe(12000/3)\n",
    "            }\n",
    "            )\n",
    "        desc=\"PV \"\n",
    "        if (akku):\n",
    "            desc +=\" Akku\"\n",
    "        if (wp):\n",
    "            desc += \" WP\"\n",
    "        cfgs[desc] = cfg"
   ]
  },
  {
   "cell_type": "code",
   "execution_count": null,
   "id": "4fd611d2-d725-49f6-a722-205016b1890e",
   "metadata": {
    "tags": []
   },
   "outputs": [],
   "source": [
    "from IPython.display import display_html\n",
    "\n",
    "summary=[]\n",
    "for desc,cfg in cfgs.items():\n",
    "    display_html(\"<h1>\" + desc + \"</h1>\",raw=True)\n",
    "\n",
    "    simulation = simulate(cfg)\n",
    "    \n",
    "    summary1 = stats(simulation,cfg)\n",
    "    summary1[\"desc\"] = desc\n",
    "    display(tabulate.tabulate([summary1], tablefmt='html', headers=\"keys\"))\n",
    "    summary.append(summary1)\n",
    "    \n",
    "    summary1 = statsMon(simulationMin,cfgMin)\n",
    "    display(tabulate.tabulate(summary1, tablefmt='html', headers=\"keys\"))"
   ]
  },
  {
   "cell_type": "code",
   "execution_count": null,
   "id": "c6cd8794-6fda-4386-b380-e30189172637",
   "metadata": {
    "tags": []
   },
   "outputs": [],
   "source": [
    "display(tabulate.tabulate(summary, tablefmt='html', headers=\"keys\"))"
   ]
  }
 ],
 "metadata": {
  "kernelspec": {
   "display_name": "Python 3 (ipykernel)",
   "language": "python",
   "name": "python3"
  },
  "language_info": {
   "codemirror_mode": {
    "name": "ipython",
    "version": 3
   },
   "file_extension": ".py",
   "mimetype": "text/x-python",
   "name": "python",
   "nbconvert_exporter": "python",
   "pygments_lexer": "ipython3",
   "version": "3.11.3"
  }
 },
 "nbformat": 4,
 "nbformat_minor": 5
}
