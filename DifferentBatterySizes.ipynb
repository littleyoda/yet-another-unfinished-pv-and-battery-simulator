{
 "cells": [
  {
   "cell_type": "code",
   "execution_count": null,
   "id": "9eaa1de0-0e69-440a-8b3e-31dfe961d7a3",
   "metadata": {},
   "outputs": [],
   "source": [
    "%run PV-Toolbox.ipynb\n",
    "\n",
    "cfgPVGIS = [\n",
    "        { \"latitude\":52.51890653973749, \n",
    "          \"longitude\":13.375925533235622, \n",
    "          \"surface_tilt\":30,\n",
    "          \"surface_azimuth\":-90, \n",
    "          \"loss\":10,\n",
    "          \"pvcalculation\":True, \n",
    "          \"peakpower\":9.8\n",
    "        },\n",
    "        {\n",
    "            \"latitude\":52.51890653973749, \n",
    "            \"longitude\":13.375925533235622, \n",
    "            \"surface_tilt\":30, \n",
    "            \"surface_azimuth\":90, \n",
    "            \"loss\":10,\n",
    "            \"pvcalculation\":True, \n",
    "            \"peakpower\":9.8\n",
    "        }\n",
    "    ]\n",
    "\n",
    "cfg = {\n",
    "    \"battery\": {\n",
    "        \"capacity\": 5000,\n",
    "        \"chargelimit\": 3000 / 60,\n",
    "        \"discargelimit\": 3000 / 60,\n",
    "        \n",
    "    },\n",
    "    \"pv\": getPVGISData(cfgPVGIS, \"2015\"),\n",
    "    \"last\": [\n",
    "        { \n",
    "          \"name\": \"Haus\",\n",
    "          \"profile\": lastprofilAnpassen(8000, loadSvensLastProfil('lastprofile_eintag.csv'))\n",
    "        }\n",
    "    ]\n",
    "}"
   ]
  },
  {
   "cell_type": "code",
   "execution_count": null,
   "id": "32434410-2341-4fa6-b063-f3e287bdc627",
   "metadata": {},
   "outputs": [],
   "source": [
    "# Komplexer Fall\n",
    "# Simulation von verschiedenen Akku Größen\n",
    "import copy\n",
    "simulation = []\n",
    "for i in range(0,20):\n",
    "    currentCfg = copy.deepcopy(cfg)\n",
    "    currentCfg[\"battery\"][\"capacity\"] = i * 1000\n",
    "    currentCfg[\"battery\"][\"chargelimit\"] = 2000 / 60\n",
    "    currentCfg[\"battery\"][\"discargelimit\"] = 2000 / 60\n",
    "    j = simulate(currentCfg)\n",
    "    \n",
    "    summary = stats(j,currentCfg)\n",
    "    \n",
    "    summary[\"maxPreis\"] = round(summary[\"batterieladung\"] * 0.248 *10) # 10 Jahre, 0.248 Ersparnis pro kWh\n",
    "    simulation.append(summary)\n",
    "tabulate.tabulate(simulation, tablefmt='html', headers=\"keys\")"
   ]
  }
 ],
 "metadata": {
  "kernelspec": {
   "display_name": "Python 3 (ipykernel)",
   "language": "python",
   "name": "python3"
  },
  "language_info": {
   "codemirror_mode": {
    "name": "ipython",
    "version": 3
   },
   "file_extension": ".py",
   "mimetype": "text/x-python",
   "name": "python",
   "nbconvert_exporter": "python",
   "pygments_lexer": "ipython3",
   "version": "3.11.3"
  }
 },
 "nbformat": 4,
 "nbformat_minor": 5
}
