{
 "cells": [
  {
   "cell_type": "code",
   "execution_count": null,
   "id": "82343330-d1ad-4242-873f-d7eba9037ab6",
   "metadata": {
    "tags": []
   },
   "outputs": [],
   "source": [
    "%run PV-Toolbox.ipynb\n",
    "\n",
    "cfgPVGIS = [\n",
    "        { \"latitude\":52.51890653973749, \n",
    "          \"longitude\":13.375925533235622, \n",
    "          \"surface_tilt\":30,\n",
    "          \"surface_azimuth\":-90, \n",
    "          \"loss\":10,\n",
    "          \"pvcalculation\":True, \n",
    "          \"peakpower\":9.8\n",
    "        },\n",
    "        {\n",
    "            \"latitude\":52.51890653973749, \n",
    "            \"longitude\":13.375925533235622, \n",
    "            \"surface_tilt\":30, \n",
    "            \"surface_azimuth\":90, \n",
    "            \"loss\":10,\n",
    "            \"pvcalculation\":True, \n",
    "            \"peakpower\":9.8\n",
    "        }\n",
    "    ]\n",
    "\n",
    "cfg = {\n",
    "    \"battery\": {\n",
    "        \"capacity\": 0,\n",
    "        \"chargelimit\": 0,\n",
    "        \"discargelimit\": 0,\n",
    "        \n",
    "    },\n",
    "    \"pv\": getPVGISData(cfgPVGIS, \"2015\"),\n",
    "    \"last\": [\n",
    "        { \n",
    "          \"name\": \"Haus\",\n",
    "          \"profile\": lastprofilAnpassen(8000, loadSvensLastProfil('lastprofile_eintag.csv'))\n",
    "        }\n",
    "    ]\n",
    "}\n",
    "\n",
    "simulation = simulate(cfg)"
   ]
  },
  {
   "cell_type": "code",
   "execution_count": null,
   "id": "013c4b61-4496-4134-8aa8-41849f3847c0",
   "metadata": {
    "tags": []
   },
   "outputs": [],
   "source": [
    "summary = stats(simulation,cfg)\n",
    "tabulate.tabulate([summary], tablefmt='html', headers=\"keys\")"
   ]
  },
  {
   "cell_type": "code",
   "execution_count": null,
   "id": "ca5d3ea4-5cb0-41aa-9d43-5b1e30ffc5e5",
   "metadata": {
    "tags": []
   },
   "outputs": [],
   "source": [
    "summary = statsMon(simulation,cfg)\n",
    "tabulate.tabulate(summary, tablefmt='html', headers=\"keys\")"
   ]
  },
  {
   "cell_type": "code",
   "execution_count": null,
   "id": "7895fc86-323a-4ee0-903e-6d72e9da0473",
   "metadata": {
    "tags": []
   },
   "outputs": [],
   "source": [
    "from ipywidgets import widgets\n",
    "from IPython.display import display\n",
    "\n",
    "\n",
    "import pandas as pd\n",
    "import matplotlib.pyplot as plt\n",
    "\n",
    "df = pd.DataFrame(summary)\n",
    "df.plot('monat', ['pv', 'batterieendladung', 'netzbezug','netzeinspeisung'])"
   ]
  }
 ],
 "metadata": {
  "kernelspec": {
   "display_name": "Python 3 (ipykernel)",
   "language": "python",
   "name": "python3"
  },
  "language_info": {
   "codemirror_mode": {
    "name": "ipython",
    "version": 3
   },
   "file_extension": ".py",
   "mimetype": "text/x-python",
   "name": "python",
   "nbconvert_exporter": "python",
   "pygments_lexer": "ipython3",
   "version": "3.11.3"
  }
 },
 "nbformat": 4,
 "nbformat_minor": 5
}
