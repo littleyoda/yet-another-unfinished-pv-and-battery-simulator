{
 "cells": [
  {
   "cell_type": "markdown",
   "id": "189b7389-c512-41c8-b14a-e776677505d4",
   "metadata": {
    "tags": []
   },
   "source": [
    "Notwendige Bibliotheken:\n",
    "\n",
    "pip install pvlib tabulate"
   ]
  },
  {
   "cell_type": "code",
   "execution_count": 1,
   "id": "f5096056-bd0f-44ff-a4e5-05a24f4ee838",
   "metadata": {
    "tags": []
   },
   "outputs": [],
   "source": [
    "import sys\n",
    "#!{sys.executable} -m pip install pvlib tabulate"
   ]
  },
  {
   "cell_type": "markdown",
   "id": "17dad6dc-569a-4709-85d1-8dea690ca8d5",
   "metadata": {
    "tags": []
   },
   "source": [
    "Hier gibt es nichts zu sehen :-)\n",
    "\n",
    "Bitte ausführen und runter scrollen."
   ]
  },
  {
   "cell_type": "code",
   "execution_count": 2,
   "id": "887db77e-642c-4147-bb22-df667b39a225",
   "metadata": {
    "tags": []
   },
   "outputs": [],
   "source": [
    "import csv\n",
    "import tabulate\n",
    "from pvlib import iotools \n",
    "import time\n",
    "import json\n",
    "import os\n",
    "import pandas as pd \n",
    "\n",
    "def chunkIt(seq, num):\n",
    "    avg = len(seq) / float(num)\n",
    "    out = []\n",
    "    last = 0.0\n",
    "\n",
    "    while last < len(seq):\n",
    "        out.append(seq[int(last):int(last + avg)])\n",
    "        last += avg\n",
    "\n",
    "    return out"
   ]
  },
  {
   "cell_type": "code",
   "execution_count": 3,
   "id": "186bd6eb-56e7-4f7e-898f-15801ae99f98",
   "metadata": {
    "tags": []
   },
   "outputs": [],
   "source": [
    "def loadSvensLastProfil(filename):\n",
    "    lastprofil = []\n",
    "    with open(filename) as csvdatei:\n",
    "        csv_reader_object = csv.reader(csvdatei, delimiter=',')\n",
    "        for row in csv_reader_object:\n",
    "            row.pop(0)\n",
    "            lastprofil.append([float(x) for x in row]) \n",
    "    assert len(lastprofil) % 24 == 0, f\"Die Anzahl der Einträge muss durch 24 teilbar sein. Nur komplette Tage sind zulässig: {len(lastprofile)}\" \n",
    "    days = int(len(lastprofil) / 24)\n",
    "\n",
    "    tmp = chunkIt(lastprofil, days)\n",
    "    lastprofil = []\n",
    "    for l in tmp:\n",
    "        out = []\n",
    "        for v in l:\n",
    "            out.extend(v)\n",
    "        assert len(out) == 1440, f\"Falsche Arraylänge: {len(out)}\" \n",
    "        lastprofil.append(out)\n",
    "\n",
    "    # Willkürliches Auffüllen des Lastprofiles mit bereis vorhanden Daten, bis ein Jahr voll ist\n",
    "    pos = 0\n",
    "    while (len(lastprofil) < 365):\n",
    "        lastprofil.append(lastprofil[pos % days])\n",
    "        pos += 1\n",
    "    assert len(lastprofil) == 365, f\"Aufbau des Lastprofiles: 365 Einträge mit jeweils 1440 Einträgen: {len(lastprofil)}\"            \n",
    "\n",
    "    jahresVerbrauch = sum([sum(v) for v in lastprofil])\n",
    "    print(\"Stromverbrauch pro Jahr: \" + str(round(jahresVerbrauch/1000)))\n",
    "    return lastprofil\n"
   ]
  },
  {
   "cell_type": "code",
   "execution_count": 4,
   "id": "a8782ad3-0610-4e59-b5a3-08ef278d094c",
   "metadata": {
    "tags": []
   },
   "outputs": [],
   "source": [
    "def loadPVGISDataFromCVSFile(filename, year):\n",
    "    pvgis = []\n",
    "    with open(filename) as csvdatei:\n",
    "        csv_reader_object = csv.reader(csvdatei, delimiter=',')\n",
    "        for row in csv_reader_object:\n",
    "            if len(row) == 0 or not row[0].startswith(str(year)):\n",
    "                continue\n",
    "            pvgis.append(row)\n",
    "    assert len(pvgis) == 8760, f\"8760 (24 Einträge pro Tag * 365 Tage)Einträge für ein Jahr erwartet: {len(pvgis)}\" \n",
    "    \n",
    "    # Umwandlung der Stundenwerten in rechnerische Minutenwerte\n",
    "    out = []\n",
    "    for tagesdaten in chunkIt(pvgis, 365):\n",
    "        tag = []\n",
    "        for stundeninfo in tagesdaten:\n",
    "                tag.extend([float(stundeninfo[1])/60.0 for x in range(60)])\n",
    "        out.append(tag)\n",
    "    assert len(out) == 365, f\"365 Einträge mit jeweils 1440 Einträgen: {len(out)}\"            \n",
    "    # Summe für Prüfung bilden\n",
    "    summe = sum([ sum(x) for x in out ])\n",
    "    print(\"PV Ertrag im Jahr:\" + str(round(summe / 1000)))\n",
    "    return out\n",
    "\n",
    "\n",
    "def convertPVGISData(data, year):\n",
    "    pvgis = []\n",
    "    for index, row in data.iterrows():\n",
    "        if (str(index).startswith(str(year))):\n",
    "            pvgis.append(row['P'])\n",
    "    assert len(pvgis) == 8760, f\"8760 (24 Einträge pro Tag * 365 Tage)Einträge für ein Jahr erwartet: {len(pvgis)}\" \n",
    "\n",
    "    # Umwandlung der Stundenwerten in rechnerische Minutenwerte\n",
    "    out = []\n",
    "    for tagesdaten in chunkIt(pvgis, 365):\n",
    "        tag = []\n",
    "        for stundeninfo in tagesdaten:\n",
    "             tag.extend([float(stundeninfo)/60.0 for x in range(60)])\n",
    "        out.append(tag)\n",
    "    assert len(out) == 365, f\"365 Einträge mit jeweils 1440 Einträgen: {len(out)}\"   \n",
    "    return out\n",
    "\n",
    "def getFilename(d, year):\n",
    "    filename=\"pvgis-\"\n",
    "    for x in sorted(d):\n",
    "        filename += x + str(d[x])\n",
    "    filename += str(year) + \".data\"\n",
    "    return filename    \n",
    "\n",
    "def getPVGISData(cfg, year):\n",
    "    # PV Daten von PVGIS abrufen\n",
    "    pvdata = [  ]\n",
    "    for pv in cfg[\"pv\"]:\n",
    "        # Check for Cache file\n",
    "        filename = getFilename(pv, year)\n",
    "        if (os.path.isfile(filename)):\n",
    "            print(\"Cached: \" + filename)\n",
    "            data = pd.read_pickle(filename)\n",
    "            data = convertPVGISData(data, year)\n",
    "        else:\n",
    "            print(\"Request from pvgis: \" + filename)\n",
    "            param = dict(pv)\n",
    "            param[\"start\"] = year\n",
    "            param[\"end\"] = year\n",
    "            rawdata = iotools.get_pvgis_hourly(**param)\n",
    "            rawdata[0].to_pickle(filename)\n",
    "            data = convertPVGISData(rawdata[0], year)\n",
    "                  \n",
    "        pvdata.append(data)\n",
    "        time.sleep(3.1)\n",
    "\n",
    "    # Aufsummieren\n",
    "    pvErtrag = [[0]*1440 for x in range(0,365)]\n",
    "    for pv in pvdata:\n",
    "        for tagIdx in range(0,365):\n",
    "            for minIdx in range(0,1440):\n",
    "                pvErtrag[tagIdx][minIdx] += pv[tagIdx][minIdx]\n",
    "\n",
    "\n",
    "    # Summe für Prüfung bilden\n",
    "    summe = sum([ sum(x) for x in pvErtrag ])\n",
    "    print(\"PV Ertrag im Jahr:\" + str(round(summe / 1000)))\n",
    "    return pvErtrag\n",
    "    "
   ]
  },
  {
   "cell_type": "code",
   "execution_count": 5,
   "id": "69d5f3fc-a2e2-4915-8999-a837aa5f3b51",
   "metadata": {
    "tags": []
   },
   "outputs": [],
   "source": [
    "\n",
    "    \n",
    "def data2speech(v):\n",
    "    out = \"\"\n",
    "    out += \"Netzbezug, \" if v[\"netz\"] > 0 else \"\"\n",
    "    out += \"Einspeisung, \" if v[\"netz\"] < 0 else \"\"\n",
    "    out += \"Ladung, \" if v[\"battery\"] > 0 else \"\"\n",
    "    out += \"Entladung, \" if v[\"battery\"] < 0 else \"\"\n",
    "    return out\n",
    "\n",
    "def stats(data,cfg):\n",
    "    v = {\"verbrauch\": 0.0, \"pv\":0.0 , \"netzbezug\":0.0,\"netzeinspeisung\": 0.0, \"batterieladung\":0.0, \"batterieendladung\": 0.0}\n",
    "    for tage in data:\n",
    "        for i in tage:\n",
    "            v[\"verbrauch\"] += i[\"verbrauch\"]\n",
    "            v[\"pv\"] += i[\"pv\"]\n",
    "            if (i[\"netz\"] > 0):\n",
    "                v[\"netzbezug\"] += i[\"netz\"]\n",
    "            else:\n",
    "                v[\"netzeinspeisung\"] -= i[\"netz\"]\n",
    "\n",
    "            if (i[\"battery\"] > 0):\n",
    "                v[\"batterieladung\"] += i[\"battery\"]\n",
    "            else:\n",
    "                v[\"batterieendladung\"] -= i[\"battery\"]\n",
    "    for key in  v:\n",
    "        v[key] = round(v[key]/1000)\n",
    "    v[\"kapazität\"] = cfg[\"battery\"][\"capacity\"]\n",
    "    v[\"vollzyklen\"] = 0 if cfg[\"battery\"][\"capacity\"] == 0 else round(v[\"batterieendladung\"] / (cfg[\"battery\"][\"capacity\"]/1000))\n",
    "    return v\n",
    " "
   ]
  },
  {
   "cell_type": "markdown",
   "id": "dcee53bb-85b4-4a48-b16c-b2abe078a5fe",
   "metadata": {
    "tags": []
   },
   "source": [
    "Die eigentliche Routine zur Simulation:\n",
    "* pvErtrag 2D-Array(365x1440) mit dem pvErtrag für jeden Tag des Jahres pro Minate \n",
    "* lastprofile 2D-Array(365x1440) mit dem Verbrauch für jeden Tag des Jahres pro Minute\n",
    "* cfg Config-Objekt"
   ]
  },
  {
   "cell_type": "code",
   "execution_count": 6,
   "id": "9c0c3683-8320-4e4c-a15a-30d4a632b6bf",
   "metadata": {
    "tags": []
   },
   "outputs": [],
   "source": [
    "def simulate(pvErtrag, lastprofil, cfg):\n",
    "    assert len(pvErtrag) == 365, f\"365 Einträge mit jeweils 1440 Einträgen: {len(pvErtrag)}\"            \n",
    "    assert len(lastprofil) == 365, f\"365 Einträge mit jeweils 1440 Einträgen: {len(lastprofil)}\"\n",
    "    for i in range(0,365):\n",
    "        assert len(pvErtrag[i]) == 1440, f\"365 Einträge mit jeweils 1440 Einträgen: {len(pvErtrag[i])}\"            \n",
    "        assert len(lastprofil[i]) == 1440, f\"365 Einträge mit jeweils 1440 Einträgen: {len(lastprofil[i])}\"            \n",
    "    \n",
    "    data = {\n",
    "        \"battery\": {\n",
    "            \"level\": 0\n",
    "        }\n",
    "    }\n",
    "    jahresDaten = []\n",
    "    for tagIdx in range(0,365):\n",
    "        tagesData = []\n",
    "        pv = pvErtrag[tagIdx]\n",
    "        verbrauch = lastprofil[tagIdx]\n",
    "        for minIdx in range(0,1440):\n",
    "            v = { \"stunde\": minIdx // 60, \"verbrauch\": verbrauch[minIdx], \"pv\": pv[minIdx], \"netz\": 0, \"battery\": 0, \"batterylevel\": 0}\n",
    "\n",
    "            # Differenz aus Verbrauch und PV-Ertrag\n",
    "            balance = v[\"verbrauch\"] - v[\"pv\"]\n",
    "\n",
    "            # Batterie Ladung/Enladugn bestimmen\n",
    "            if (balance <= 0):\n",
    "                # PV Produktion ist höher -- Strom verfügbar\n",
    "                v[\"battery\"] = min(cfg[\"battery\"][\"capacity\"] - data[\"battery\"][\"level\"], -balance, cfg[\"battery\"][\"chargelimit\"])\n",
    "            elif (balance > 0):\n",
    "                # Stromverbrauch ist höher -- Strom wird benötigt\n",
    "                v[\"battery\"] = -min(data[\"battery\"][\"level\"], balance, cfg[\"battery\"][\"discargelimit\"])\n",
    "\n",
    "            # Auf Basis der Battery Ladung/Enladung Werte anpassen\n",
    "            data[\"battery\"][\"level\"] += v[\"battery\"]\n",
    "            v[\"netz\"] = balance + v[\"battery\"]\n",
    "            v[\"batterylevel\"]= data[\"battery\"][\"level\"]\n",
    "\n",
    "            v[\"desc\"] = data2speech(v)\n",
    "            tagesData.append(v)\n",
    "        jahresDaten.append(tagesData)\n",
    "    return jahresDaten"
   ]
  },
  {
   "cell_type": "markdown",
   "id": "96e9047c-f8ad-4d87-a4f3-13e9daf9d10e",
   "metadata": {
    "tags": []
   },
   "source": [
    "Ab hier geht es richtig los:\n",
    "* Konfiguration\n",
    "* Lastprofil laden\n",
    "* PV Ertrag erstellen\n",
    "* Ausgabe des Gesamtertrages (zum prüfen)\n"
   ]
  },
  {
   "cell_type": "code",
   "execution_count": 7,
   "id": "f5b90117-56eb-4c93-aba4-aa51a7720c0a",
   "metadata": {
    "tags": []
   },
   "outputs": [],
   "source": [
    "    \n",
    "cfg = {\n",
    "    \"battery\": {\n",
    "        \"capacity\": 3000,\n",
    "        \"chargelimit\": 3000/60,\n",
    "        \"discargelimit\": 3000/60,\n",
    "        \n",
    "    },\n",
    "    \"pv\": [\n",
    "        { \"latitude\":52.51890653973749, \n",
    "          \"longitude\":13.375925533235622, \n",
    "          \"surface_tilt\":30,\n",
    "          \"surface_azimuth\":-90, \n",
    "          \"loss\":10,\n",
    "          \"pvcalculation\":True, \n",
    "          \"peakpower\":9.8\n",
    "        },\n",
    "        {\n",
    "            \"latitude\":52.51890653973749, \n",
    "            \"longitude\":13.375925533235622, \n",
    "            \"surface_tilt\":30, \n",
    "            \"surface_azimuth\":90, \n",
    "            \"loss\":10,\n",
    "            \"pvcalculation\":True, \n",
    "            \"peakpower\":9.8\n",
    "        }\n",
    "    ]\n",
    "}"
   ]
  },
  {
   "cell_type": "markdown",
   "id": "bb8a6684-eba0-4224-8037-a6d87b4f0267",
   "metadata": {
    "tags": []
   },
   "source": [
    "Genutzt wird ein fiktives Lastprofil. Aus dem Lastprofile für einen Tag, wir ein Lastprofil für 365 Tage erstellt.\n",
    "\n",
    "Die Funktion getPVGISData lädt die Information automatisch von pvgis herunter. (kann bis zu einer Minute dauern)\n",
    "Die Daten werden zwischengespeichert und den Server zu schonen.\n",
    "\n",
    "Teilweise liefert der pvgis-Server einen Timeout zurück. In diesem Fall es später (>3 min) nochmal probieren.\n"
   ]
  },
  {
   "cell_type": "code",
   "execution_count": 8,
   "id": "1aa1ddd7-7db2-4dbe-badc-2916db45caca",
   "metadata": {
    "tags": []
   },
   "outputs": [
    {
     "name": "stdout",
     "output_type": "stream",
     "text": [
      "Stromverbrauch pro Jahr: 5133\n",
      "Cached: pvgis-latitude52.51890653973749longitude13.375925533235622loss10peakpower9.8pvcalculationTruesurface_azimuth-90surface_tilt302015.data\n",
      "Cached: pvgis-latitude52.51890653973749longitude13.375925533235622loss10peakpower9.8pvcalculationTruesurface_azimuth90surface_tilt302015.data\n",
      "PV Ertrag im Jahr:17153\n"
     ]
    }
   ],
   "source": [
    "last = loadSvensLastProfil('lastprofile_eintag.csv')\n",
    "# Option 1 => Direkt vom pvgis Server\n",
    "pvErtrag = getPVGISData(cfg, 2015)\n",
    "\n",
    "# Opeion 2=> von einer heruntergeladenen CSV-Datei von pvgis\n",
    "#pvErtrag = loadPVGISDataFromCVSFile(\"Timeseries_51.XXX_6.XXX_SA2_8kWp_crystSi_10_30deg_90deg_2005_2020.csv\",2005)"
   ]
  },
  {
   "cell_type": "code",
   "execution_count": 9,
   "id": "41d06e3e-c67b-40d2-9c74-a0bb3084d0d4",
   "metadata": {
    "tags": []
   },
   "outputs": [
    {
     "data": {
      "text/html": [
       "<table>\n",
       "<thead>\n",
       "<tr><th style=\"text-align: right;\">  verbrauch</th><th style=\"text-align: right;\">   pv</th><th style=\"text-align: right;\">  netzbezug</th><th style=\"text-align: right;\">  netzeinspeisung</th><th style=\"text-align: right;\">  batterieladung</th><th style=\"text-align: right;\">  batterieendladung</th><th style=\"text-align: right;\">  kapazität</th><th style=\"text-align: right;\">  vollzyklen</th></tr>\n",
       "</thead>\n",
       "<tbody>\n",
       "<tr><td style=\"text-align: right;\">       5133</td><td style=\"text-align: right;\">17153</td><td style=\"text-align: right;\">       1437</td><td style=\"text-align: right;\">            13458</td><td style=\"text-align: right;\">            1305</td><td style=\"text-align: right;\">               1305</td><td style=\"text-align: right;\">       3000</td><td style=\"text-align: right;\">         435</td></tr>\n",
       "</tbody>\n",
       "</table>"
      ],
      "text/plain": [
       "'<table>\\n<thead>\\n<tr><th style=\"text-align: right;\">  verbrauch</th><th style=\"text-align: right;\">   pv</th><th style=\"text-align: right;\">  netzbezug</th><th style=\"text-align: right;\">  netzeinspeisung</th><th style=\"text-align: right;\">  batterieladung</th><th style=\"text-align: right;\">  batterieendladung</th><th style=\"text-align: right;\">  kapazität</th><th style=\"text-align: right;\">  vollzyklen</th></tr>\\n</thead>\\n<tbody>\\n<tr><td style=\"text-align: right;\">       5133</td><td style=\"text-align: right;\">17153</td><td style=\"text-align: right;\">       1437</td><td style=\"text-align: right;\">            13458</td><td style=\"text-align: right;\">            1305</td><td style=\"text-align: right;\">               1305</td><td style=\"text-align: right;\">       3000</td><td style=\"text-align: right;\">         435</td></tr>\\n</tbody>\\n</table>'"
      ]
     },
     "execution_count": 9,
     "metadata": {},
     "output_type": "execute_result"
    }
   ],
   "source": [
    "# Einfachster Fall\n",
    "# Simulation von einem Fall\n",
    "simulation = simulate(pvErtrag, last, cfg)\n",
    "summary = stats(simulation,cfg)\n",
    "tabulate.tabulate([summary], tablefmt='html', headers=\"keys\")"
   ]
  },
  {
   "cell_type": "code",
   "execution_count": 10,
   "id": "c09f89a6-f5b9-4599-bb7f-39b16e61be31",
   "metadata": {
    "tags": []
   },
   "outputs": [],
   "source": [
    "# Komplexer Fall\n",
    "# Simulation von verschiedenen Akku Größen\n",
    "import copy\n",
    "simulation = []\n",
    "for i in range(0,20):\n",
    "    currentCfg = copy.deepcopy(cfg)\n",
    "    currentCfg[\"battery\"][\"capacity\"] = i * 1000\n",
    "    currentCfg[\"battery\"][\"chargelimit\"] = 2000 / 60\n",
    "    currentCfg[\"battery\"][\"discargelimit\"] = 2000 / 60\n",
    "    j = simulate(pvErtrag, last, currentCfg)\n",
    "    \n",
    "    summary = stats(j,currentCfg)\n",
    "    \n",
    "    summary[\"maxPreis\"] = round(summary[\"batterieladung\"] * 0.248 *10) # 10 Jahre, 0.248 Ersparnis pro kWh\n",
    "    simulation.append(summary)"
   ]
  },
  {
   "cell_type": "code",
   "execution_count": 11,
   "id": "1f2b578d-7404-4adb-b040-af7f5c325788",
   "metadata": {
    "tags": []
   },
   "outputs": [
    {
     "data": {
      "text/html": [
       "<table>\n",
       "<thead>\n",
       "<tr><th style=\"text-align: right;\">  verbrauch</th><th style=\"text-align: right;\">   pv</th><th style=\"text-align: right;\">  netzbezug</th><th style=\"text-align: right;\">  netzeinspeisung</th><th style=\"text-align: right;\">  batterieladung</th><th style=\"text-align: right;\">  batterieendladung</th><th style=\"text-align: right;\">  kapazität</th><th style=\"text-align: right;\">  vollzyklen</th><th style=\"text-align: right;\">  maxPreis</th></tr>\n",
       "</thead>\n",
       "<tbody>\n",
       "<tr><td style=\"text-align: right;\">       5133</td><td style=\"text-align: right;\">17153</td><td style=\"text-align: right;\">       2742</td><td style=\"text-align: right;\">            14763</td><td style=\"text-align: right;\">               0</td><td style=\"text-align: right;\">                  0</td><td style=\"text-align: right;\">          0</td><td style=\"text-align: right;\">           0</td><td style=\"text-align: right;\">         0</td></tr>\n",
       "<tr><td style=\"text-align: right;\">       5133</td><td style=\"text-align: right;\">17153</td><td style=\"text-align: right;\">       2093</td><td style=\"text-align: right;\">            14114</td><td style=\"text-align: right;\">             650</td><td style=\"text-align: right;\">                650</td><td style=\"text-align: right;\">       1000</td><td style=\"text-align: right;\">         650</td><td style=\"text-align: right;\">      1612</td></tr>\n",
       "<tr><td style=\"text-align: right;\">       5133</td><td style=\"text-align: right;\">17153</td><td style=\"text-align: right;\">       1747</td><td style=\"text-align: right;\">            13768</td><td style=\"text-align: right;\">             995</td><td style=\"text-align: right;\">                995</td><td style=\"text-align: right;\">       2000</td><td style=\"text-align: right;\">         498</td><td style=\"text-align: right;\">      2468</td></tr>\n",
       "<tr><td style=\"text-align: right;\">       5133</td><td style=\"text-align: right;\">17153</td><td style=\"text-align: right;\">       1537</td><td style=\"text-align: right;\">            13558</td><td style=\"text-align: right;\">            1205</td><td style=\"text-align: right;\">               1205</td><td style=\"text-align: right;\">       3000</td><td style=\"text-align: right;\">         402</td><td style=\"text-align: right;\">      2988</td></tr>\n",
       "<tr><td style=\"text-align: right;\">       5133</td><td style=\"text-align: right;\">17153</td><td style=\"text-align: right;\">       1393</td><td style=\"text-align: right;\">            13413</td><td style=\"text-align: right;\">            1350</td><td style=\"text-align: right;\">               1349</td><td style=\"text-align: right;\">       4000</td><td style=\"text-align: right;\">         337</td><td style=\"text-align: right;\">      3348</td></tr>\n",
       "<tr><td style=\"text-align: right;\">       5133</td><td style=\"text-align: right;\">17153</td><td style=\"text-align: right;\">       1302</td><td style=\"text-align: right;\">            13321</td><td style=\"text-align: right;\">            1443</td><td style=\"text-align: right;\">               1441</td><td style=\"text-align: right;\">       5000</td><td style=\"text-align: right;\">         288</td><td style=\"text-align: right;\">      3579</td></tr>\n",
       "<tr><td style=\"text-align: right;\">       5133</td><td style=\"text-align: right;\">17153</td><td style=\"text-align: right;\">       1241</td><td style=\"text-align: right;\">            13259</td><td style=\"text-align: right;\">            1504</td><td style=\"text-align: right;\">               1502</td><td style=\"text-align: right;\">       6000</td><td style=\"text-align: right;\">         250</td><td style=\"text-align: right;\">      3730</td></tr>\n",
       "<tr><td style=\"text-align: right;\">       5133</td><td style=\"text-align: right;\">17153</td><td style=\"text-align: right;\">       1211</td><td style=\"text-align: right;\">            13228</td><td style=\"text-align: right;\">            1536</td><td style=\"text-align: right;\">               1532</td><td style=\"text-align: right;\">       7000</td><td style=\"text-align: right;\">         219</td><td style=\"text-align: right;\">      3809</td></tr>\n",
       "<tr><td style=\"text-align: right;\">       5133</td><td style=\"text-align: right;\">17153</td><td style=\"text-align: right;\">       1193</td><td style=\"text-align: right;\">            13209</td><td style=\"text-align: right;\">            1554</td><td style=\"text-align: right;\">               1550</td><td style=\"text-align: right;\">       8000</td><td style=\"text-align: right;\">         194</td><td style=\"text-align: right;\">      3854</td></tr>\n",
       "<tr><td style=\"text-align: right;\">       5133</td><td style=\"text-align: right;\">17153</td><td style=\"text-align: right;\">       1179</td><td style=\"text-align: right;\">            13194</td><td style=\"text-align: right;\">            1570</td><td style=\"text-align: right;\">               1564</td><td style=\"text-align: right;\">       9000</td><td style=\"text-align: right;\">         174</td><td style=\"text-align: right;\">      3894</td></tr>\n",
       "<tr><td style=\"text-align: right;\">       5133</td><td style=\"text-align: right;\">17153</td><td style=\"text-align: right;\">       1167</td><td style=\"text-align: right;\">            13181</td><td style=\"text-align: right;\">            1582</td><td style=\"text-align: right;\">               1575</td><td style=\"text-align: right;\">      10000</td><td style=\"text-align: right;\">         158</td><td style=\"text-align: right;\">      3923</td></tr>\n",
       "<tr><td style=\"text-align: right;\">       5133</td><td style=\"text-align: right;\">17153</td><td style=\"text-align: right;\">       1160</td><td style=\"text-align: right;\">            13173</td><td style=\"text-align: right;\">            1590</td><td style=\"text-align: right;\">               1582</td><td style=\"text-align: right;\">      11000</td><td style=\"text-align: right;\">         144</td><td style=\"text-align: right;\">      3943</td></tr>\n",
       "<tr><td style=\"text-align: right;\">       5133</td><td style=\"text-align: right;\">17153</td><td style=\"text-align: right;\">       1155</td><td style=\"text-align: right;\">            13167</td><td style=\"text-align: right;\">            1596</td><td style=\"text-align: right;\">               1588</td><td style=\"text-align: right;\">      12000</td><td style=\"text-align: right;\">         132</td><td style=\"text-align: right;\">      3958</td></tr>\n",
       "<tr><td style=\"text-align: right;\">       5133</td><td style=\"text-align: right;\">17153</td><td style=\"text-align: right;\">       1150</td><td style=\"text-align: right;\">            13161</td><td style=\"text-align: right;\">            1602</td><td style=\"text-align: right;\">               1592</td><td style=\"text-align: right;\">      13000</td><td style=\"text-align: right;\">         122</td><td style=\"text-align: right;\">      3973</td></tr>\n",
       "<tr><td style=\"text-align: right;\">       5133</td><td style=\"text-align: right;\">17153</td><td style=\"text-align: right;\">       1146</td><td style=\"text-align: right;\">            13156</td><td style=\"text-align: right;\">            1607</td><td style=\"text-align: right;\">               1596</td><td style=\"text-align: right;\">      14000</td><td style=\"text-align: right;\">         114</td><td style=\"text-align: right;\">      3985</td></tr>\n",
       "<tr><td style=\"text-align: right;\">       5133</td><td style=\"text-align: right;\">17153</td><td style=\"text-align: right;\">       1142</td><td style=\"text-align: right;\">            13151</td><td style=\"text-align: right;\">            1612</td><td style=\"text-align: right;\">               1600</td><td style=\"text-align: right;\">      15000</td><td style=\"text-align: right;\">         107</td><td style=\"text-align: right;\">      3998</td></tr>\n",
       "<tr><td style=\"text-align: right;\">       5133</td><td style=\"text-align: right;\">17153</td><td style=\"text-align: right;\">       1139</td><td style=\"text-align: right;\">            13147</td><td style=\"text-align: right;\">            1616</td><td style=\"text-align: right;\">               1603</td><td style=\"text-align: right;\">      16000</td><td style=\"text-align: right;\">         100</td><td style=\"text-align: right;\">      4008</td></tr>\n",
       "<tr><td style=\"text-align: right;\">       5133</td><td style=\"text-align: right;\">17153</td><td style=\"text-align: right;\">       1137</td><td style=\"text-align: right;\">            13144</td><td style=\"text-align: right;\">            1619</td><td style=\"text-align: right;\">               1605</td><td style=\"text-align: right;\">      17000</td><td style=\"text-align: right;\">          94</td><td style=\"text-align: right;\">      4015</td></tr>\n",
       "<tr><td style=\"text-align: right;\">       5133</td><td style=\"text-align: right;\">17153</td><td style=\"text-align: right;\">       1135</td><td style=\"text-align: right;\">            13141</td><td style=\"text-align: right;\">            1622</td><td style=\"text-align: right;\">               1607</td><td style=\"text-align: right;\">      18000</td><td style=\"text-align: right;\">          89</td><td style=\"text-align: right;\">      4023</td></tr>\n",
       "<tr><td style=\"text-align: right;\">       5133</td><td style=\"text-align: right;\">17153</td><td style=\"text-align: right;\">       1133</td><td style=\"text-align: right;\">            13138</td><td style=\"text-align: right;\">            1625</td><td style=\"text-align: right;\">               1609</td><td style=\"text-align: right;\">      19000</td><td style=\"text-align: right;\">          85</td><td style=\"text-align: right;\">      4030</td></tr>\n",
       "</tbody>\n",
       "</table>"
      ],
      "text/plain": [
       "'<table>\\n<thead>\\n<tr><th style=\"text-align: right;\">  verbrauch</th><th style=\"text-align: right;\">   pv</th><th style=\"text-align: right;\">  netzbezug</th><th style=\"text-align: right;\">  netzeinspeisung</th><th style=\"text-align: right;\">  batterieladung</th><th style=\"text-align: right;\">  batterieendladung</th><th style=\"text-align: right;\">  kapazität</th><th style=\"text-align: right;\">  vollzyklen</th><th style=\"text-align: right;\">  maxPreis</th></tr>\\n</thead>\\n<tbody>\\n<tr><td style=\"text-align: right;\">       5133</td><td style=\"text-align: right;\">17153</td><td style=\"text-align: right;\">       2742</td><td style=\"text-align: right;\">            14763</td><td style=\"text-align: right;\">               0</td><td style=\"text-align: right;\">                  0</td><td style=\"text-align: right;\">          0</td><td style=\"text-align: right;\">           0</td><td style=\"text-align: right;\">         0</td></tr>\\n<tr><td style=\"text-align: right;\">       5133</td><td style=\"text-align: right;\">17153</td><td style=\"text-align: right;\">       2093</td><td style=\"text-align: right;\">            14114</td><td style=\"text-align: right;\">             650</td><td style=\"text-align: right;\">                650</td><td style=\"text-align: right;\">       1000</td><td style=\"text-align: right;\">         650</td><td style=\"text-align: right;\">      1612</td></tr>\\n<tr><td style=\"text-align: right;\">       5133</td><td style=\"text-align: right;\">17153</td><td style=\"text-align: right;\">       1747</td><td style=\"text-align: right;\">            13768</td><td style=\"text-align: right;\">             995</td><td style=\"text-align: right;\">                995</td><td style=\"text-align: right;\">       2000</td><td style=\"text-align: right;\">         498</td><td style=\"text-align: right;\">      2468</td></tr>\\n<tr><td style=\"text-align: right;\">       5133</td><td style=\"text-align: right;\">17153</td><td style=\"text-align: right;\">       1537</td><td style=\"text-align: right;\">            13558</td><td style=\"text-align: right;\">            1205</td><td style=\"text-align: right;\">               1205</td><td style=\"text-align: right;\">       3000</td><td style=\"text-align: right;\">         402</td><td style=\"text-align: right;\">      2988</td></tr>\\n<tr><td style=\"text-align: right;\">       5133</td><td style=\"text-align: right;\">17153</td><td style=\"text-align: right;\">       1393</td><td style=\"text-align: right;\">            13413</td><td style=\"text-align: right;\">            1350</td><td style=\"text-align: right;\">               1349</td><td style=\"text-align: right;\">       4000</td><td style=\"text-align: right;\">         337</td><td style=\"text-align: right;\">      3348</td></tr>\\n<tr><td style=\"text-align: right;\">       5133</td><td style=\"text-align: right;\">17153</td><td style=\"text-align: right;\">       1302</td><td style=\"text-align: right;\">            13321</td><td style=\"text-align: right;\">            1443</td><td style=\"text-align: right;\">               1441</td><td style=\"text-align: right;\">       5000</td><td style=\"text-align: right;\">         288</td><td style=\"text-align: right;\">      3579</td></tr>\\n<tr><td style=\"text-align: right;\">       5133</td><td style=\"text-align: right;\">17153</td><td style=\"text-align: right;\">       1241</td><td style=\"text-align: right;\">            13259</td><td style=\"text-align: right;\">            1504</td><td style=\"text-align: right;\">               1502</td><td style=\"text-align: right;\">       6000</td><td style=\"text-align: right;\">         250</td><td style=\"text-align: right;\">      3730</td></tr>\\n<tr><td style=\"text-align: right;\">       5133</td><td style=\"text-align: right;\">17153</td><td style=\"text-align: right;\">       1211</td><td style=\"text-align: right;\">            13228</td><td style=\"text-align: right;\">            1536</td><td style=\"text-align: right;\">               1532</td><td style=\"text-align: right;\">       7000</td><td style=\"text-align: right;\">         219</td><td style=\"text-align: right;\">      3809</td></tr>\\n<tr><td style=\"text-align: right;\">       5133</td><td style=\"text-align: right;\">17153</td><td style=\"text-align: right;\">       1193</td><td style=\"text-align: right;\">            13209</td><td style=\"text-align: right;\">            1554</td><td style=\"text-align: right;\">               1550</td><td style=\"text-align: right;\">       8000</td><td style=\"text-align: right;\">         194</td><td style=\"text-align: right;\">      3854</td></tr>\\n<tr><td style=\"text-align: right;\">       5133</td><td style=\"text-align: right;\">17153</td><td style=\"text-align: right;\">       1179</td><td style=\"text-align: right;\">            13194</td><td style=\"text-align: right;\">            1570</td><td style=\"text-align: right;\">               1564</td><td style=\"text-align: right;\">       9000</td><td style=\"text-align: right;\">         174</td><td style=\"text-align: right;\">      3894</td></tr>\\n<tr><td style=\"text-align: right;\">       5133</td><td style=\"text-align: right;\">17153</td><td style=\"text-align: right;\">       1167</td><td style=\"text-align: right;\">            13181</td><td style=\"text-align: right;\">            1582</td><td style=\"text-align: right;\">               1575</td><td style=\"text-align: right;\">      10000</td><td style=\"text-align: right;\">         158</td><td style=\"text-align: right;\">      3923</td></tr>\\n<tr><td style=\"text-align: right;\">       5133</td><td style=\"text-align: right;\">17153</td><td style=\"text-align: right;\">       1160</td><td style=\"text-align: right;\">            13173</td><td style=\"text-align: right;\">            1590</td><td style=\"text-align: right;\">               1582</td><td style=\"text-align: right;\">      11000</td><td style=\"text-align: right;\">         144</td><td style=\"text-align: right;\">      3943</td></tr>\\n<tr><td style=\"text-align: right;\">       5133</td><td style=\"text-align: right;\">17153</td><td style=\"text-align: right;\">       1155</td><td style=\"text-align: right;\">            13167</td><td style=\"text-align: right;\">            1596</td><td style=\"text-align: right;\">               1588</td><td style=\"text-align: right;\">      12000</td><td style=\"text-align: right;\">         132</td><td style=\"text-align: right;\">      3958</td></tr>\\n<tr><td style=\"text-align: right;\">       5133</td><td style=\"text-align: right;\">17153</td><td style=\"text-align: right;\">       1150</td><td style=\"text-align: right;\">            13161</td><td style=\"text-align: right;\">            1602</td><td style=\"text-align: right;\">               1592</td><td style=\"text-align: right;\">      13000</td><td style=\"text-align: right;\">         122</td><td style=\"text-align: right;\">      3973</td></tr>\\n<tr><td style=\"text-align: right;\">       5133</td><td style=\"text-align: right;\">17153</td><td style=\"text-align: right;\">       1146</td><td style=\"text-align: right;\">            13156</td><td style=\"text-align: right;\">            1607</td><td style=\"text-align: right;\">               1596</td><td style=\"text-align: right;\">      14000</td><td style=\"text-align: right;\">         114</td><td style=\"text-align: right;\">      3985</td></tr>\\n<tr><td style=\"text-align: right;\">       5133</td><td style=\"text-align: right;\">17153</td><td style=\"text-align: right;\">       1142</td><td style=\"text-align: right;\">            13151</td><td style=\"text-align: right;\">            1612</td><td style=\"text-align: right;\">               1600</td><td style=\"text-align: right;\">      15000</td><td style=\"text-align: right;\">         107</td><td style=\"text-align: right;\">      3998</td></tr>\\n<tr><td style=\"text-align: right;\">       5133</td><td style=\"text-align: right;\">17153</td><td style=\"text-align: right;\">       1139</td><td style=\"text-align: right;\">            13147</td><td style=\"text-align: right;\">            1616</td><td style=\"text-align: right;\">               1603</td><td style=\"text-align: right;\">      16000</td><td style=\"text-align: right;\">         100</td><td style=\"text-align: right;\">      4008</td></tr>\\n<tr><td style=\"text-align: right;\">       5133</td><td style=\"text-align: right;\">17153</td><td style=\"text-align: right;\">       1137</td><td style=\"text-align: right;\">            13144</td><td style=\"text-align: right;\">            1619</td><td style=\"text-align: right;\">               1605</td><td style=\"text-align: right;\">      17000</td><td style=\"text-align: right;\">          94</td><td style=\"text-align: right;\">      4015</td></tr>\\n<tr><td style=\"text-align: right;\">       5133</td><td style=\"text-align: right;\">17153</td><td style=\"text-align: right;\">       1135</td><td style=\"text-align: right;\">            13141</td><td style=\"text-align: right;\">            1622</td><td style=\"text-align: right;\">               1607</td><td style=\"text-align: right;\">      18000</td><td style=\"text-align: right;\">          89</td><td style=\"text-align: right;\">      4023</td></tr>\\n<tr><td style=\"text-align: right;\">       5133</td><td style=\"text-align: right;\">17153</td><td style=\"text-align: right;\">       1133</td><td style=\"text-align: right;\">            13138</td><td style=\"text-align: right;\">            1625</td><td style=\"text-align: right;\">               1609</td><td style=\"text-align: right;\">      19000</td><td style=\"text-align: right;\">          85</td><td style=\"text-align: right;\">      4030</td></tr>\\n</tbody>\\n</table>'"
      ]
     },
     "execution_count": 11,
     "metadata": {},
     "output_type": "execute_result"
    }
   ],
   "source": [
    "tabulate.tabulate(simulation, tablefmt='html', headers=\"keys\")"
   ]
  }
 ],
 "metadata": {
  "kernelspec": {
   "display_name": "Python 3 (ipykernel)",
   "language": "python",
   "name": "python3"
  },
  "language_info": {
   "codemirror_mode": {
    "name": "ipython",
    "version": 3
   },
   "file_extension": ".py",
   "mimetype": "text/x-python",
   "name": "python",
   "nbconvert_exporter": "python",
   "pygments_lexer": "ipython3",
   "version": "3.8.12"
  }
 },
 "nbformat": 4,
 "nbformat_minor": 5
}
